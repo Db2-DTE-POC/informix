{
 "cells": [
  {
   "cell_type": "markdown",
   "metadata": {},
   "source": [
    "[![](./media/dte-header.jpg)](https://www.ibm.com/demos/collection/db2-database/)\n",
    "<a id=\"top\">"
   ]
  },
  {
   "cell_type": "markdown",
   "metadata": {},
   "source": [
    "# Db2 11.5 External Tables\n",
    "Welcome to this Db2 lab that highlights the ability to access External Tables with Db2 11.5. Db2 11.5 introduces support for External tables. External tables are objects that reside on a local or remote file system that Db2 can create or read as if they were standard SQL tables. The advantage of using external tables for Extraction-Transformation-Loading (ETL) processes is that they can be carried out using plain SQL. Because an SQL-based ETL process can be initiated from any SQL client, it eliminates the need for special ETL tools."
   ]
  },
  {
   "cell_type": "markdown",
   "metadata": {},
   "source": [
    "<div style=\"font-family: 'IBM Plex Sans';\">\n",
    "<table style=\"float:left; width: 620px; height: 235px; border-spacing: 10px; border-collapse: separate; table-layout: fixed\">\n",
    "    <td style=\"padding: 15px; text-align:left; vertical-align: text-top; background-color:#F7F7F7; width: 300px; height: 250px;\">\n",
    "        <div style=\"height: 75px\"><p style=\"font-size: 24px\">An Introduction External Tables</div>\n",
    "        <div style=\"height: 120px\"><p style=\"font-size: 14px\">\n",
    "             Db2 11.5 introduces support for External tables. This lab will take the reader through \n",
    "             various scenarios of using External tables in Db2.\n",
    "        </div>\n",
    "        <div style=\"height: 25px\"><p style=\"font-size: 12px; text-align: right\">\n",
    "            <img style=\"display: inline-block;\"src=\"./media/clock.png\">&nbsp;20min\n",
    "        </div>\n",
    "        <div style=\"height: 10px\"><p style=\"font-size: 12px; text-align: right\">\n",
    "             <a href=\"http://localhost:8888/notebooks/Db2_11.5_External_Tables.ipynb\">\n",
    "                 <img style=\"display: inline-block;\"src=\"./media/arrowblue.png\"></a>            \n",
    "        </div>        \n",
    "    </td>    \n",
    "    <td style=\"padding: 15px; text-align:left; vertical-align: text-top; background-color:#F7F7F7; width: 300px; height: 250px;\">\n",
    "        <div style=\"height: 75px\"><p style=\"font-size: 24px\">An Introduction to Jupyter Notebooks</div>\n",
    "        <div style=\"height: 125px\"><p style=\"font-size: 14px\">\n",
    "             If you are not familiar with the use of Jupyter notebooks or Python, the following notebook \n",
    "             will guide you through their usage.\n",
    "        </div>\n",
    "        <div style=\"height: 25px\"><p style=\"font-size: 12px; text-align: right\">\n",
    "            <img style=\"display: inline-block;\"src=\"./media/clock.png\">&nbsp;10min\n",
    "        </div>\n",
    "        <div style=\"height: 10px\"><p style=\"font-size: 12px; text-align: right\">\n",
    "             <a href=\"http://localhost:8888/notebooks/An_Introduction_to_Jupyter_Notebooks.ipynb\">\n",
    "                 <img style=\"display: inline-block;\"src=\"./media/arrowblue.png\"></a>            \n",
    "        </div>            \n",
    "    </td>\n",
    "    <td style=\"padding: 15px; text-align:left; vertical-align: text-top; background-color:#F7F7F7; width: 300px; height:250px\">\n",
    "        <div style=\"height: 75px\"><p style=\"font-size: 24px\">Db2 Magic Commands</div>\n",
    "        <div style=\"height: 125px\"><p style=\"font-size: 14px\">\n",
    "             Db2 Magic commands are used in all of the notebooks used in this lab. \n",
    "             The following notebook provides a tutorial on basics of using the Db2 magic commands.\n",
    "        </div>\n",
    "        <div style=\"height: 25px\"><p style=\"font-size: 12px; text-align: right\">\n",
    "            <img style=\"display: inline-block;\"src=\"./media/clock.png\">&nbsp;10min\n",
    "        </div>  \n",
    "        <div style=\"height: 10px\"><p style=\"font-size: 12px; text-align: right\">\n",
    "             <a href=\"http://localhost:8888/notebooks/Db2_Jupyter_Extensions_Tutorial.ipynb\">\n",
    "                 <img style=\"display: inline-block;\"src=\"./media/arrowblue.png\"></a>            \n",
    "        </div>            \n",
    "    </td>\n",
    "</table>\n",
    "</div>"
   ]
  },
  {
   "cell_type": "markdown",
   "metadata": {},
   "source": [
    "#### Questions and Comments: Phil Downey [phil.downey1@ibm.com], George Baklarz [baklarz@ca.ibm.com]"
   ]
  }
 ],
 "metadata": {
  "kernelspec": {
   "display_name": "Python 3",
   "language": "python",
   "name": "python3"
  },
  "language_info": {
   "codemirror_mode": {
    "name": "ipython",
    "version": 3
   },
   "file_extension": ".py",
   "mimetype": "text/x-python",
   "name": "python",
   "nbconvert_exporter": "python",
   "pygments_lexer": "ipython3",
   "version": "3.7.4"
  }
 },
 "nbformat": 4,
 "nbformat_minor": 2
}
